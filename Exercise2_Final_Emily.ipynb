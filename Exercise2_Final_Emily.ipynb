{
 "cells": [
  {
   "cell_type": "markdown",
   "metadata": {},
   "source": [
    "## Exercise 2\n",
    "\n",
    "In the `FiniteDifferences` notebook we considered the differential equation controlling heat flow which relates the rate of change in $T$, the temperature, to spatial gradients in the same quantity. \n",
    "\n",
    "$$\n",
    "\\frac{\\partial T}{\\partial t} = \\kappa \\frac{\\partial^2 T}{\\partial x^2} + H\n",
    "$$\n",
    "       \n",
    "       \n",
    "We ignored $H$ and solved a number of examples. \n",
    "\n",
    "At the end of the notebook we looked at the time-varying solution of the heat equation using an explicit finite difference approximation. Given all the trouble we went to setting this up, don't you think it would be a good idea to see if we can iterate until we reach the steady-state solution?\n",
    "\n",
    "This is not very complicated to do so I would like you to try it __for the case where $\\kappa$ is constant__.\n",
    "\n",
    "You can copy and paste the cells from the `FiniteDifferences` here to get started."
   ]
  },
  {
   "cell_type": "markdown",
   "metadata": {
    "collapsed": true
   },
   "source": [
    "## Hints\n",
    "\n",
    "You have most of the code you need. The `np.gradient` function will still be useful ... in fact you really only have to put everything in a `for` loop and enforce the boundary conditions.\n"
   ]
  },
  {
   "cell_type": "code",
   "execution_count": 1,
   "metadata": {},
   "outputs": [],
   "source": [
    "# load the appropriate python modules\n",
    "import numpy as np\n",
    "import matplotlib.pyplot as plt\n",
    "%matplotlib inline"
   ]
  },
  {
   "cell_type": "code",
   "execution_count": 2,
   "metadata": {},
   "outputs": [],
   "source": [
    "steps = 50\n",
    "#boundaries\n",
    "dy = 1.\n",
    "dx = 1.\n",
    "\n",
    "#setting size of array filled with zero below\n",
    "ny = 27\n",
    "nx = 25\n",
    "\n",
    "T = np.zeros((ny,nx))\n",
    "\n",
    "#empty list\n",
    "T_store = []\n",
    "\n",
    "# Initial conditions\n",
    "#slicing and dicing with array\n",
    "#initial temp distribution\n",
    "# we want to set it at the top wall and the bottom wall\n",
    "T[0,:] = 300.\n",
    "T[-1,:] = 800.\n",
    "k = 1.0\n",
    "\n",
    "# 1 timestep\n",
    "# np gradient operation\n",
    "time = 10.0\n",
    "\n",
    "#loop to replace time value at a step\n",
    "for i in range(1, steps):\n",
    "    T[0,:] = 300.\n",
    "    T[-1,:] = 800.\n",
    "    #first derivative\n",
    "    gradTx, gradTy = np.gradient(T, dx, dy)\n",
    "   #fluxes relate to the change in a particular quantity - in this case K - spatially\n",
    "    flux_x = k*gradTx\n",
    "    flux_y = k*gradTy\n",
    "    #second derivative\n",
    "    gradTxx, gradTxy = np.gradient(flux_x, dx, dy)\n",
    "    gradTyx, gradTyy = np.gradient(flux_y, dx, dy)\n",
    "\n",
    "    #adding these together - our second derivatives\n",
    "    divT = gradTxx + gradTyy\n",
    "    dt = (dx*dy)/k\n",
    "    #calculating one step\n",
    "    time += dt\n",
    "\n",
    "    #this stores the new T being created within this for loop to the empty array\n",
    "    T_store.append(T)\n",
    "    #Changing of T\n",
    "    T = T + dt*divT\n",
    "    "
   ]
  },
  {
   "cell_type": "code",
   "execution_count": 3,
   "metadata": {
    "scrolled": true
   },
   "outputs": [
    {
     "name": "stdout",
     "output_type": "stream",
     "text": [
      "Heatmap of Temperature Gradient of Given Time Variance\n"
     ]
    },
    {
     "data": {
      "image/png": "[encoded data removed]",
      "text/plain": [
       "<Figure size 432x288 with 2 Axes>"
      ]
     },
     "metadata": {
      "needs_background": "light"
     },
     "output_type": "display_data"
    }
   ],
   "source": [
    "#Can see it still not a smooth gradient\n",
    "co_bar = plt.imshow(T)\n",
    "plt.colorbar(co_bar)\n",
    "plt.title('50 steps')\n",
    "print('Heatmap of Temperature Gradient of Given Time Variance')\n",
    "pass"
   ]
  },
  {
   "cell_type": "code",
   "execution_count": 4,
   "metadata": {},
   "outputs": [
    {
     "data": {
      "text/plain": [
       "(49, 27, 25)"
      ]
     },
     "execution_count": 4,
     "metadata": {},
     "output_type": "execute_result"
    }
   ],
   "source": [
    "#Makes T_store into an array\n",
    "T_store = np.array(T_store)\n",
    "\n",
    "#checking shape, makes sense, in 50 steps there is 49 values (end not included), then has the dimensions\n",
    "#we set above (27 rows and 25 columns)\n",
    "T_store.shape"
   ]
  },
  {
   "cell_type": "code",
   "execution_count": 5,
   "metadata": {},
   "outputs": [
    {
     "name": "stdout",
     "output_type": "stream",
     "text": [
      "(48, 27, 25)\n"
     ]
    }
   ],
   "source": [
    "#Here setting T_diff as T_store from second T (because 0 would be 0) to last element of T, for all rows and \n",
    "#all columns MINUS T_store from first T to last entry of T, for all rows and all columns\n",
    "#this substracts one step aheas\n",
    "T_diff = T_store[1:,:,:1] - T_store[0:-1,:,:]\n",
    "\n",
    "#checking shape of the data\n",
    "print(T_diff.shape)"
   ]
  },
  {
   "cell_type": "code",
   "execution_count": 6,
   "metadata": {},
   "outputs": [
    {
     "data": {
      "text/plain": [
       "400.0"
      ]
     },
     "execution_count": 6,
     "metadata": {},
     "output_type": "execute_result"
    }
   ],
   "source": [
    "#this takes 1 value per timestep, T_diff_red is\n",
    "#calculating the maximum difference between each time step\n",
    "T_diff_red = np.abs(T_diff).max(axis=(1,2))\n",
    "\n",
    "#shape has been changed, not same image data\n",
    "np.max(T_diff_red)"
   ]
  },
  {
   "cell_type": "code",
   "execution_count": 7,
   "metadata": {},
   "outputs": [
    {
     "data": {
      "image/png": "[encoded data removed]",
      "text/plain": [
       "<Figure size 432x288 with 1 Axes>"
      ]
     },
     "metadata": {
      "needs_background": "light"
     },
     "output_type": "display_data"
    }
   ],
   "source": [
    "#plotting T_diff_red\n",
    "#converges as it approaches 0\n",
    "plt.plot(T_diff_red)\n",
    "plt.ylabel('Max Temp at Given Point')\n",
    "plt.xlabel('Timestep')\n",
    "pass"
   ]
  },
  {
   "cell_type": "markdown",
   "metadata": {},
   "source": [
    "Additionally, you can see that it approaches convergence pretty quickly, the equation beginning to break down after one timestep. In having 50 timesteps, and as backed up by the gradient map, you can see that the equation is beginning to create a temperature gradient, however there are too few timesteps to stabilise the state of it.\n",
    "\n",
    "I am going to increase the number of timesteps to see how this affects the temperature gradient of the heatmap."
   ]
  },
  {
   "cell_type": "code",
   "execution_count": 8,
   "metadata": {},
   "outputs": [],
   "source": [
    "steps = 500\n",
    "#boundaries\n",
    "dy = 1.\n",
    "dx = 1.\n",
    "\n",
    "#setting size of array filled with zero below\n",
    "ny = 27\n",
    "nx = 25\n",
    "\n",
    "T_new = np.zeros((ny,nx))\n",
    "\n",
    "#empty list\n",
    "T_store2 = []\n",
    "\n",
    "#Initial conditions\n",
    "#slicing and dicing with array\n",
    "#initial temp distribution\n",
    "# we want to set it at the top wall and the bottom wall\n",
    "T_new[0,:] = 300.\n",
    "T_new[-1,:] = 800.\n",
    "k = 1.0\n",
    "\n",
    "# 1 timestep\n",
    "# np gradient operation\n",
    "time = 10\n",
    "\n",
    "#loop to replace time value at a step\n",
    "for i in range(1, steps):\n",
    "    T_new[0,:] = 300.\n",
    "    T_new[-1,:] = 800.\n",
    "    #first derivative\n",
    "    gradTx, gradTy = np.gradient(T_new, dx, dy)\n",
    "   #fluxes relate to the change in a particular quantity - in this case K - spatially\n",
    "    flux_x = k*gradTx\n",
    "    flux_y = k*gradTy\n",
    "    #second derivative\n",
    "    gradTxx, gradTxy = np.gradient(flux_x, dx, dy)\n",
    "    gradTyx, gradTyy = np.gradient(flux_y, dx, dy)\n",
    "\n",
    "    #adding these together - our second derivatives\n",
    "    divT = gradTxx + gradTyy\n",
    "    dt = (dx*dy)/k\n",
    "    #calculating one step\n",
    "    time += dt\n",
    "\n",
    "    #this stores the new T being created within this for loop to the empty array\n",
    "    T_store2.append(T_new)\n",
    "    #Changing of T\n",
    "    T_new = T_new + dt*divT\n",
    "    "
   ]
  },
  {
   "cell_type": "code",
   "execution_count": 9,
   "metadata": {},
   "outputs": [
    {
     "name": "stdout",
     "output_type": "stream",
     "text": [
      "Heatmap of Temperature Gradient of Given Time Variance\n"
     ]
    },
    {
     "data": {
      "image/png": "[encoded data removed]",
      "text/plain": [
       "<Figure size 432x288 with 2 Axes>"
      ]
     },
     "metadata": {
      "needs_background": "light"
     },
     "output_type": "display_data"
    }
   ],
   "source": [
    "#Can see it is becoming smoother gradient\n",
    "col_grad = plt.imshow(T_new)\n",
    "plt.colorbar(col_grad)\n",
    "plt.title('500 steps')\n",
    "print('Heatmap of Temperature Gradient of Given Time Variance')\n",
    "\n",
    "\n",
    "pass"
   ]
  },
  {
   "cell_type": "markdown",
   "metadata": {},
   "source": [
    "You can see by even just increasing the steps from 50 to 500 and maintaining the stepsize at 10 that this has already smoothened out the heatmap, as now there is a smooth temperature gradient across the temperature map."
   ]
  },
  {
   "cell_type": "code",
   "execution_count": 10,
   "metadata": {},
   "outputs": [
    {
     "data": {
      "text/plain": [
       "(499, 27, 25)"
      ]
     },
     "execution_count": 10,
     "metadata": {},
     "output_type": "execute_result"
    }
   ],
   "source": [
    "#Makes T_store into an array\n",
    "T_store2 = np.array(T_store2)\n",
    "\n",
    "#checking shape, makes sense, in 50 steps there is 49 values (end not included), then has the dimensions\n",
    "#we set above (27 rows and 25 columns)\n",
    "T_store2.shape"
   ]
  },
  {
   "cell_type": "code",
   "execution_count": 11,
   "metadata": {},
   "outputs": [
    {
     "name": "stdout",
     "output_type": "stream",
     "text": [
      "(498, 27, 25)\n"
     ]
    }
   ],
   "source": [
    "#Here setting T_diff as T_store from second T (because 0 would be 0) to last element of T, for all rows and \n",
    "#all columns MINUS T_store from first T to last entry of T, for all rows and all columns\n",
    "#this substracts one step aheas\n",
    "T_diff2 = T_store2[1:,:,:1] - T_store2[0:-1,:,:]\n",
    "\n",
    "#checking shape of the data\n",
    "print(T_diff2.shape)"
   ]
  },
  {
   "cell_type": "code",
   "execution_count": 12,
   "metadata": {},
   "outputs": [
    {
     "data": {
      "text/plain": [
       "400.0"
      ]
     },
     "execution_count": 12,
     "metadata": {},
     "output_type": "execute_result"
    }
   ],
   "source": [
    "#this takes 1 value per timestep, T_diff_red is\n",
    "#calculating the maximum difference between each time step\n",
    "T_diff_red2 = np.abs(T_diff2).max(axis=(1,2))\n",
    "\n",
    "#shape has been changed, not same image data\n",
    "np.max(T_diff_red2)"
   ]
  },
  {
   "cell_type": "code",
   "execution_count": 13,
   "metadata": {},
   "outputs": [
    {
     "data": {
      "image/png": "[encoded data removed]",
      "text/plain": [
       "<Figure size 432x288 with 1 Axes>"
      ]
     },
     "metadata": {
      "needs_background": "light"
     },
     "output_type": "display_data"
    }
   ],
   "source": [
    "#plotting T_diff_red\n",
    "#converges as it approaches 0\n",
    "plt.plot(T_diff_red2)\n",
    "plt.ylabel('Max Temp at Given Point')\n",
    "plt.xlabel('Timestep')\n",
    "pass"
   ]
  },
  {
   "cell_type": "markdown",
   "metadata": {},
   "source": [
    "Compare this graph to the previous one for 50 timesteps, by having more timesteps, in this case I have gone up to 500, there are enough iterations that the equation is able to reach a steady state. It looks as if this has been reached around the 200 timestep mark.\n",
    "\n",
    "Now to show that we have reached steady state by comparing the max difference in temperature solutions:"
   ]
  },
  {
   "cell_type": "code",
   "execution_count": 14,
   "metadata": {
    "scrolled": true
   },
   "outputs": [
    {
     "data": {
      "text/plain": [
       "5.204380729367415"
      ]
     },
     "execution_count": 14,
     "metadata": {},
     "output_type": "execute_result"
    }
   ],
   "source": [
    "#This is for the first example T - 10 timestep size, 50 timesteps\n",
    "\n",
    "T_max = T_store[48,:,:] - T_store[47,:,:]\n",
    "np.max(T_max)"
   ]
  },
  {
   "cell_type": "code",
   "execution_count": 15,
   "metadata": {},
   "outputs": [
    {
     "data": {
      "text/plain": [
       "0.007071984642607276"
      ]
     },
     "execution_count": 15,
     "metadata": {},
     "output_type": "execute_result"
    }
   ],
   "source": [
    "#THis is for the second example T_new - 10 timestep size, 500 timesteps\n",
    "T_max2 = T_store2[498,:,:] - T_store2[497,:,:]\n",
    "np.max(T_max2)"
   ]
  },
  {
   "cell_type": "markdown",
   "metadata": {},
   "source": [
    "Looking at these two values, it is clear that increasing the timestep to 500 has made it approach steady state as it is close to zero. The first example `T` with lesser timesteps (50) has a max difference in temperature solution of 5.204..., whereas the second example `T_new` with more timesteps (500) has a max difference in temperature solution of 0.00707..., much closer to zero (i.e. converges - steady state - as it approaches 0). Just for the fun of it, I wanted to run the maths for one last example."
   ]
  },
  {
   "cell_type": "markdown",
   "metadata": {},
   "source": [
    "## Next Part of Exercise"
   ]
  },
  {
   "cell_type": "markdown",
   "metadata": {},
   "source": [
    "We know that there is an instability in the code which occurs if the timestep is too large. Currently the timestep size is related to the size of the mesh and the diffusivity:\n",
    "\n",
    "$$\n",
    "\\Delta t = \\frac{\\Delta x \\Delta y}{\\kappa}\n",
    "$$\n",
    "\n",
    "\n",
    "What happens if you overwrite the timestep size, `dt`? What is the point where the solution begins to breakdown and you see wild oscillations? Is it pretty close to the above relation?"
   ]
  },
  {
   "cell_type": "code",
   "execution_count": 16,
   "metadata": {},
   "outputs": [],
   "source": [
    "steps = 1000\n",
    "dy = 1.\n",
    "dx = 1.\n",
    "ny = 27\n",
    "nx = 25\n",
    "\n",
    "\n",
    "T = np.zeros((ny,nx))\n",
    "# Initial conditions\n",
    "T[0,:] = 300.\n",
    "T[-1,:] = 800.\n",
    "\n",
    "k = 1.0\n",
    "time = 0.0\n",
    "\n",
    "for i in range(1, steps):\n",
    "    T[0,:] = 300.\n",
    "    T[-1,:] = 800.\n",
    "    \n",
    "    gradTx, gradTy = np.gradient(T, dx, dy)\n",
    "    flux_x = k*gradTx\n",
    "    flux_y = k*gradTy\n",
    "    \n",
    "    gradTxx, gradTxy = np.gradient(flux_x, dx, dy)\n",
    "    gradTyx, gradTyy = np.gradient(flux_y, dx, dy)\n",
    "\n",
    "    divT = gradTxx + gradTyy\n",
    "    dt = 1.99\n",
    "    #calculating one step\n",
    "    \n",
    "    T = T + dt * divT\n"
   ]
  },
  {
   "cell_type": "code",
   "execution_count": 17,
   "metadata": {},
   "outputs": [],
   "source": [
    "steps = 1000\n",
    "dy = 1.\n",
    "dx = 1.\n",
    "ny = 27\n",
    "nx = 25\n",
    "\n",
    "\n",
    "T2 = np.zeros((ny,nx))\n",
    "# Initial conditions\n",
    "T2[0,:] = 300.\n",
    "T2[-1,:] = 800.\n",
    "\n",
    "k = 1.0\n",
    "time = 0.0\n",
    "\n",
    "for i in range(1, steps):\n",
    "    T2[0,:] = 300.\n",
    "    T2[-1,:] = 800.\n",
    "    \n",
    "    gradTx, gradTy = np.gradient(T2, dx, dy)\n",
    "    flux_x = k*gradTx\n",
    "    flux_y = k*gradTy\n",
    "    \n",
    "    gradTxx, gradTxy = np.gradient(flux_x, dx, dy)\n",
    "    gradTyx, gradTyy = np.gradient(flux_y, dx, dy)\n",
    "\n",
    "    divT = gradTxx + gradTyy\n",
    "    dt = 1.999\n",
    "    #calculating one step\n",
    "    \n",
    "    T2 = T2 + dt * divT\n",
    "\n",
    "\n"
   ]
  },
  {
   "cell_type": "code",
   "execution_count": 18,
   "metadata": {},
   "outputs": [],
   "source": [
    "steps = 1000\n",
    "dy = 1.\n",
    "dx = 1.\n",
    "ny = 27\n",
    "nx = 25\n",
    "\n",
    "\n",
    "T3 = np.zeros((ny,nx))\n",
    "# Initial conditions\n",
    "T3[0,:] = 300.\n",
    "T3[-1,:] = 800.\n",
    "\n",
    "k = 1.0\n",
    "time = 0.0\n",
    "\n",
    "for i in range(1, steps):\n",
    "    T3[0,:] = 300.\n",
    "    T3[-1,:] = 800.\n",
    "    \n",
    "    gradTx, gradTy = np.gradient(T3, dx, dy)\n",
    "    flux_x = k*gradTx\n",
    "    flux_y = k*gradTy\n",
    "    \n",
    "    gradTxx, gradTxy = np.gradient(flux_x, dx, dy)\n",
    "    gradTyx, gradTyy = np.gradient(flux_y, dx, dy)\n",
    "\n",
    "    divT = gradTxx + gradTyy\n",
    "    dt = 2.0\n",
    "    #calculating one step\n",
    "    \n",
    "    T3 = T3 + dt * divT\n",
    "\n"
   ]
  },
  {
   "cell_type": "code",
   "execution_count": 19,
   "metadata": {
    "scrolled": false
   },
   "outputs": [
    {
     "data": {
      "image/png": "[encoded data removed]",
      "text/plain": [
       "<Figure size 720x288 with 3 Axes>"
      ]
     },
     "metadata": {
      "needs_background": "light"
     },
     "output_type": "display_data"
    }
   ],
   "source": [
    "fig, (ax1,ax2,ax3) = plt.subplots(1,3, sharey=True, figsize=(10,4))\n",
    "ax1.imshow(T)\n",
    "ax1.set_title('dt = 1.99')\n",
    "ax2.imshow(T2)\n",
    "ax2.set_title('dt = 1.999')\n",
    "ax3.imshow(T3)\n",
    "ax3.set_title('dt = 2.0')\n",
    "pass"
   ]
  },
  {
   "cell_type": "markdown",
   "metadata": {},
   "source": [
    "Playing around with the dt value, somewhere between 1.998 and 1.999 the solution begins to breakdown, wild oscilations starting for sure at dt=2.\n",
    "\n",
    "The values of dx, dy and k produce dt. Let's test what dt is given the values for dx, dy and have all been set at 1. When I plug these into the equation I get:"
   ]
  },
  {
   "cell_type": "code",
   "execution_count": 20,
   "metadata": {},
   "outputs": [
    {
     "name": "stdout",
     "output_type": "stream",
     "text": [
      "1.0\n"
     ]
    }
   ],
   "source": [
    "#these values are constant in testing for smooth temp gradient, all = 1\n",
    "dt = dx*dy/k\n",
    "print(dt)"
   ]
  },
  {
   "cell_type": "markdown",
   "metadata": {},
   "source": [
    "Using the values for dx, dy and k I have set (all = 1), when I plug these into the equation\n",
    "\n",
    "$$\n",
    "\\Delta t = \\frac{\\Delta x \\Delta y}{\\kappa}\n",
    "$$\n",
    "\n",
    "I get 1. However, by playing around with dt by manually overwriting the value as seen above dt = 199 to 1.999 is where oscillations occur.\n",
    "\n",
    "While 1 and 1.99 are not far from each other, given that between 1.99 and 1.999 (far smaller difference) makes all the difference to the temperature gradient, I guess optimal timestep size is close to the equation, but not close enough. "
   ]
  },
  {
   "cell_type": "code",
   "execution_count": 21,
   "metadata": {},
   "outputs": [],
   "source": [
    "#testing dt = 1 in the temperature solution\n",
    "\n",
    "steps = 1000\n",
    "dy = 1.\n",
    "dx = 1.\n",
    "ny = 27\n",
    "nx = 25\n",
    "\n",
    "\n",
    "T_testing = np.zeros((ny,nx))\n",
    "# Initial conditions\n",
    "T_testing[0,:] = 300.\n",
    "T_testing[-1,:] = 800.\n",
    "\n",
    "k = 1.0\n",
    "time = 0.0\n",
    "\n",
    "for i in range(1, steps):\n",
    "    T_testing[0,:] = 300.\n",
    "    T_testing[-1,:] = 800.\n",
    "    \n",
    "    gradTx, gradTy = np.gradient(T_testing, dx, dy)\n",
    "    flux_x = k*gradTx\n",
    "    flux_y = k*gradTy\n",
    "    \n",
    "    gradTxx, gradTxy = np.gradient(flux_x, dx, dy)\n",
    "    gradTyx, gradTyy = np.gradient(flux_y, dx, dy)\n",
    "\n",
    "    divT = gradTxx + gradTyy\n",
    "\n",
    "    #calculating one step\n",
    "    \n",
    "    T_testing = T_testing + dt * divT\n",
    "\n"
   ]
  },
  {
   "cell_type": "code",
   "execution_count": 22,
   "metadata": {},
   "outputs": [
    {
     "data": {
      "image/png": "[encoded data removed]",
      "text/plain": [
       "<Figure size 432x288 with 1 Axes>"
      ]
     },
     "metadata": {
      "needs_background": "light"
     },
     "output_type": "display_data"
    }
   ],
   "source": [
    "#plotting T_diff_red\n",
    "#converges as it approaches 0\n",
    "plt.imshow(T_testing)\n",
    "plt.title('dt = 1')\n",
    "pass"
   ]
  },
  {
   "cell_type": "markdown",
   "metadata": {},
   "source": [
    "Using dt = 1 from the equation there is a smooth gradient - there are no oscillations yet, the solution is still stable and is not breaking down. this means that this is still a suitably small dt for the equation.\n",
    "\n",
    "I will now set increments and see what will happen if I increase and decrease dt by the increment."
   ]
  },
  {
   "cell_type": "code",
   "execution_count": 23,
   "metadata": {},
   "outputs": [],
   "source": [
    "steps = 1000\n",
    "dx = 1\n",
    "dy = 1\n",
    "ny = 27\n",
    "nx = 25\n",
    "\n",
    "\n",
    "New_T = np.zeros((ny,nx))\n",
    "# Initial conditions\n",
    "New_T[0,:] = 300.\n",
    "New_T[-1,:] = 800.\n",
    "\n",
    "k = 1.0\n",
    "time = 0.0\n",
    "inc = .9975\n",
    "\n",
    "for i in range(1, steps):\n",
    "    New_T[0,:] = 300.\n",
    "    New_T[-1,:] = 800.\n",
    "    \n",
    "    gradTx, gradTy = np.gradient(New_T, dx, dy)\n",
    "    flux_x = k*gradTx\n",
    "    flux_y = k*gradTy\n",
    "    \n",
    "    gradTxx, gradTxy = np.gradient(flux_x, dx, dy)\n",
    "    gradTyx, gradTyy = np.gradient(flux_y, dx, dy)\n",
    "\n",
    "    divT = gradTxx + gradTyy\n",
    "    dt_new = dt + inc\n",
    "    #calculating one step\n",
    "    \n",
    "    New_T = New_T + dt_new * divT\n"
   ]
  },
  {
   "cell_type": "code",
   "execution_count": 24,
   "metadata": {},
   "outputs": [],
   "source": [
    "steps = 1000\n",
    "dx = 1\n",
    "dy = 1\n",
    "ny = 27\n",
    "nx = 25\n",
    "\n",
    "\n",
    "Newer_T = np.zeros((ny,nx))\n",
    "# Initial conditions\n",
    "Newer_T[0,:] = 300.\n",
    "Newer_T[-1,:] = 800.\n",
    "\n",
    "k = 1.0\n",
    "time = 0.0\n",
    "inc = .999\n",
    "\n",
    "for i in range(1, steps):\n",
    "    Newer_T[0,:] = 300.\n",
    "    Newer_T[-1,:] = 800.\n",
    "    \n",
    "    gradTx, gradTy = np.gradient(Newer_T, dx, dy)\n",
    "    flux_x = k*gradTx\n",
    "    flux_y = k*gradTy\n",
    "    \n",
    "    gradTxx, gradTxy = np.gradient(flux_x, dx, dy)\n",
    "    gradTyx, gradTyy = np.gradient(flux_y, dx, dy)\n",
    "\n",
    "    divT = gradTxx + gradTyy\n",
    "    dt_newer = dt + inc\n",
    "    #calculating one step\n",
    "    \n",
    "    Newer_T = Newer_T + dt_newer * divT\n",
    "\n"
   ]
  },
  {
   "cell_type": "code",
   "execution_count": 25,
   "metadata": {},
   "outputs": [],
   "source": [
    "steps = 1000\n",
    "dx = 1\n",
    "dy = 1\n",
    "ny = 27\n",
    "nx = 25\n",
    "\n",
    "\n",
    "N_T = np.zeros((ny,nx))\n",
    "# Initial conditions\n",
    "N_T[0,:] = 300.\n",
    "N_T[-1,:] = 800.\n",
    "\n",
    "k = 1.0\n",
    "time = 0.0\n",
    "inc = -0.1\n",
    "\n",
    "for i in range(1, steps):\n",
    "    N_T[0,:] = 300.\n",
    "    N_T[-1,:] = 800.\n",
    "    \n",
    "    gradTx, gradTy = np.gradient(N_T, dx, dy)\n",
    "    flux_x = k*gradTx\n",
    "    flux_y = k*gradTy\n",
    "    \n",
    "    gradTxx, gradTxy = np.gradient(flux_x, dx, dy)\n",
    "    gradTyx, gradTyy = np.gradient(flux_y, dx, dy)\n",
    "\n",
    "    divT = gradTxx + gradTyy\n",
    "    dt_n = dt + inc\n",
    "    #calculating one step\n",
    "    \n",
    "    N_T = N_T + dt_n * divT"
   ]
  },
  {
   "cell_type": "code",
   "execution_count": 26,
   "metadata": {},
   "outputs": [],
   "source": [
    "steps = 1000\n",
    "dx = 1\n",
    "dy = 1\n",
    "ny = 27\n",
    "nx = 25\n",
    "\n",
    "\n",
    "N_Tn = np.zeros((ny,nx))\n",
    "# Initial conditions\n",
    "N_Tn[0,:] = 300.\n",
    "N_Tn[-1,:] = 800.\n",
    "\n",
    "k = 1.0\n",
    "time = 0.0\n",
    "inc = -0.3\n",
    "\n",
    "for i in range(1, steps):\n",
    "    N_Tn[0,:] = 300.\n",
    "    N_Tn[-1,:] = 800.\n",
    "    \n",
    "    gradTx, gradTy = np.gradient(N_Tn, dx, dy)\n",
    "    flux_x = k*gradTx\n",
    "    flux_y = k*gradTy\n",
    "    \n",
    "    gradTxx, gradTxy = np.gradient(flux_x, dx, dy)\n",
    "    gradTyx, gradTyy = np.gradient(flux_y, dx, dy)\n",
    "\n",
    "    divT = gradTxx + gradTyy\n",
    "    dt_nt = dt + inc\n",
    "    #calculating one step\n",
    "    \n",
    "    N_Tn = N_Tn + dt_nt * divT"
   ]
  },
  {
   "cell_type": "code",
   "execution_count": 27,
   "metadata": {},
   "outputs": [
    {
     "name": "stdout",
     "output_type": "stream",
     "text": [
      "\n",
      "dt = 1 + some specified increment (inc)\n"
     ]
    },
    {
     "data": {
      "image/png": "[encoded data removed]",
      "text/plain": [
       "<Figure size 720x288 with 5 Axes>"
      ]
     },
     "metadata": {
      "needs_background": "light"
     },
     "output_type": "display_data"
    }
   ],
   "source": [
    "fig, (ax1,ax2,ax3,ax4,ax5) = plt.subplots(1,5, sharey=True, figsize=(10,4))\n",
    "ax1.imshow(T)\n",
    "ax1.set_title('no inc, i.e. dt = 1')\n",
    "ax2.imshow(New_T)\n",
    "ax2.set_title('inc = 0.9975')\n",
    "ax3.imshow(Newer_T)\n",
    "ax3.set_title('inc = 0.999')\n",
    "ax4.imshow(N_T)\n",
    "ax4.set_title('inc = -0.1')\n",
    "ax5.imshow(N_Tn)\n",
    "ax5.set_title('inc = -0.3')\n",
    "print()\n",
    "print('dt = 1 + some specified increment (inc)')\n",
    "pass"
   ]
  },
  {
   "cell_type": "markdown",
   "metadata": {},
   "source": [
    "When the increment is added to rewrite dt, it performs the same way as previously shown:\n",
    "\n",
    "<ul>\n",
    "<li>in the case of inc = 0.9975, dt becomes 1.9975 which is the boundary (1.99 to 1.999) of where the solution begins to breakdown</li>\n",
    "<li>in the case of inc = 0.999, dt becomes 1.999 which is where oscillations are clear and the solution is beginning to breakdown.</li>\n",
    "<li>where dt is decreased by 0.1 and 0.3, the solution remains stable. </li>\n",
    "</ul>\n",
    "    \n",
    "The reason the solution becomes unstable by increasing dt is because a larger dt causes instabilities in the solution. The reason the solution remains stable by decreasing dt is because a smaller dt is desired to maintain stability of the solution."
   ]
  }
 ],
 "metadata": {
  "kernelspec": {
   "display_name": "Python 3",
   "language": "python",
   "name": "python3"
  },
  "language_info": {
   "codemirror_mode": {
    "name": "ipython",
    "version": 3
   },
   "file_extension": ".py",
   "mimetype": "text/x-python",
   "name": "python",
   "nbconvert_exporter": "python",
   "pygments_lexer": "ipython3",
   "version": "3.8.5"
  }
 },
 "nbformat": 4,
 "nbformat_minor": 1
}
